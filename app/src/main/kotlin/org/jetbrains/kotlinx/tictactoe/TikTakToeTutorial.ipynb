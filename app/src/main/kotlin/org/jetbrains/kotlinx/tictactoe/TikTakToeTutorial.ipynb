{
 "cells": [
  {
   "metadata": {},
   "cell_type": "markdown",
   "source": "# Tic-Tac-Toe Library Tutorial"
  },
  {
   "metadata": {},
   "cell_type": "markdown",
   "source": [
    "This notebook shows how to use the TicTacToe library: start a game, make moves, detect wins/draws, render the board, and call the built-in AI.\n",
    "\n",
    "What's explained:\n",
    "- Create a game (newGame) and read game.board, game.current, and game.state.\n",
    "- Validate moves and handle errors (occupied cells, out-of-bounds, game over).\n",
    "- Render a simple CLI board view from the read-only board data.\n",
    "- Use AI players: AIPlayer.getRandomMove and AIPlayer.computeBestMove.\n",
    "\n",
    "Design goals:\n",
    "- Small, UI-agnostic game engine (no UI dependencies).\n",
    "- Clear public API for game state and moves.\n",
    "- Built-in AI (Minimax) suitable for 3x3 boards."
   ]
  },
  {
   "metadata": {},
   "cell_type": "markdown",
   "source": [
    "## 0. Setup\n",
    "Open this Gradle project in IntelliJ IDEA. After Gradle sync, run each cell. If imports fail, build the project first."
   ]
  },
  {
   "metadata": {
    "ExecuteTime": {
     "end_time": "2025-10-07T16:21:37.082499600Z",
     "start_time": "2025-10-07T16:21:37.038500200Z"
    }
   },
   "cell_type": "code",
   "source": [
    "// Import the library API and AI:\n",
    "import org.jetbrains.kotlinx.tictactoe.*\n",
    "println(\"TicTacToe library loaded.\")"
   ],
   "outputs": [
    {
     "name": "stdout",
     "output_type": "stream",
     "text": [
      "TicTacToe library loaded.\r\n"
     ]
    }
   ],
   "execution_count": 19
  },
  {
   "metadata": {},
   "cell_type": "markdown",
   "source": "## 1. TicTacToe library overview"
  },
  {
   "metadata": {},
   "cell_type": "markdown",
   "source": [
    "Types:\n",
    "- Mark: enum { X, O }\n",
    "- GameState: InProgress | Won(winner: Mark) | Draw\n",
    "- TicTacToe: interface exposing board, current, state, and play(row, col)\n",
    "- newGame(): factory returning a TicTacToe implementation\n",
    "\n",
    "Rules:\n",
    "- 3x3 board, rows/cols in 0..2\n",
    "- X moves first, then players alternate\n",
    "- IllegalArgumentException for out-of-bounds or occupied cells\n",
    "- IllegalStateException if trying to play after game over"
   ]
  },
  {
   "metadata": {},
   "cell_type": "markdown",
   "source": "## 2. Create a game and inspect initial state\n"
  },
  {
   "metadata": {
    "ExecuteTime": {
     "end_time": "2025-10-07T16:21:37.139015400Z",
     "start_time": "2025-10-07T16:21:37.089500400Z"
    }
   },
   "cell_type": "code",
   "source": [
    "val g = newGame()\n",
    "\n",
    "println(\"Initial board:\")\n",
    "println(g.board) // 3x3 array of nulls"
   ],
   "outputs": [
    {
     "name": "stdout",
     "output_type": "stream",
     "text": [
      "Initial board:\r\n",
      "[[null, null, null], [null, null, null], [null, null, null]]\r\n"
     ]
    }
   ],
   "execution_count": 20
  },
  {
   "metadata": {},
   "cell_type": "markdown",
   "source": "Displaying the board in a UI is up to you. The `board` property is a 2D array of nullable `Mark` values. Here's a simple text rendering in console:"
  },
  {
   "metadata": {
    "ExecuteTime": {
     "end_time": "2025-10-07T16:21:37.227538200Z",
     "start_time": "2025-10-07T16:21:37.145014100Z"
    }
   },
   "cell_type": "code",
   "source": [
    "fun render(game: TicTacToe) {\n",
    "    for (row in game.board) {\n",
    "        for (cell in row) {\n",
    "            when (cell) {\n",
    "                Mark.X -> print(\" X \")\n",
    "                Mark.O -> print(\" O \")\n",
    "                null -> print(\" . \")\n",
    "            }\n",
    "        }\n",
    "        println()\n",
    "    }\n",
    "}\n",
    "render(g)"
   ],
   "outputs": [
    {
     "name": "stdout",
     "output_type": "stream",
     "text": [
      " .  .  . \r\n",
      " .  .  . \r\n",
      " .  .  . \r\n"
     ]
    }
   ],
   "execution_count": 21
  },
  {
   "metadata": {},
   "cell_type": "markdown",
   "source": [
    "## 3. Playing and handling invalid moves\n",
    "Out-of-bounds, already-occupied cells, or moves after game over throw exceptions."
   ]
  },
  {
   "metadata": {
    "ExecuteTime": {
     "end_time": "2025-10-07T16:21:37.293537100Z",
     "start_time": "2025-10-07T16:21:37.234539900Z"
    }
   },
   "cell_type": "code",
   "source": [
    "g.play(0, 0) // First move by X\n",
    "\n",
    "try {\n",
    "    g.play(0, 0) // already occupied\n",
    "} catch (e: IllegalArgumentException) {\n",
    "    println(\"Expected: ${e.message}\")\n",
    "}\n",
    "try {\n",
    "    g.play(3, 0) // out of bounds\n",
    "} catch (e: IllegalArgumentException) {\n",
    "    println(\"Expected: ${e.message}\")\n",
    "}"
   ],
   "outputs": [
    {
     "name": "stdout",
     "output_type": "stream",
     "text": [
      "Expected: Cell (0,0) is already occupied\r\n",
      "Expected: Row and column must be in 0..2\r\n"
     ]
    }
   ],
   "execution_count": 22
  },
  {
   "metadata": {},
   "cell_type": "markdown",
   "source": [
    "## 4. Game States: Win, Draw, InProgress\n",
    "The game state updates automatically after each valid move. You can check the state and current player at any time via g.state and g.current"
   ]
  },
  {
   "metadata": {
    "ExecuteTime": {
     "end_time": "2025-10-07T16:21:37.389051500Z",
     "start_time": "2025-10-07T16:21:37.300540800Z"
    }
   },
   "cell_type": "code",
   "source": [
    "val win = newGame()\n",
    "win.play(0, 0) // X\n",
    "win.play(1, 0) // O\n",
    "render(win)\n",
    "println(\"State: ${win.state}, Current Player: ${win.current}\")\n",
    "win.play(0, 1) // X\n",
    "win.play(1, 1) // O\n",
    "win.play(0, 2) // X wins row 0\n",
    "render(win)\n",
    "println(\"State: ${win.state}\")\n",
    "\n",
    "val draw = newGame()\n",
    "draw.play(0,0); draw.play(0,1); draw.play(0,2)\n",
    "draw.play(1,1); draw.play(1,0); draw.play(1,2)\n",
    "draw.play(2,1); draw.play(2,0); draw.play(2,2)\n",
    "render(draw)\n",
    "println(\"State: ${draw.state}\")"
   ],
   "outputs": [
    {
     "name": "stdout",
     "output_type": "stream",
     "text": [
      " X  .  . \r\n",
      " O  .  . \r\n",
      " .  .  . \r\n",
      "State: InProgress, Current Player: X\r\n",
      " X  X  X \r\n",
      " O  O  . \r\n",
      " .  .  . \r\n",
      "State: Won(winner=X)\r\n",
      " X  O  X \r\n",
      " X  O  O \r\n",
      " O  X  X \r\n",
      "State: Draw\r\n"
     ]
    }
   ],
   "execution_count": 23
  },
  {
   "metadata": {},
   "cell_type": "markdown",
   "source": [
    "## Using the built-in AI\n",
    "\n",
    "### Random moves\n",
    "The AI can pick random valid moves."
   ]
  },
  {
   "metadata": {
    "ExecuteTime": {
     "end_time": "2025-10-07T16:21:37.553608100Z",
     "start_time": "2025-10-07T16:21:37.396057600Z"
    }
   },
   "cell_type": "code",
   "source": [
    "val randomGame = newGame()\n",
    "randomGame.play(0, 0) // X\n",
    "randomGame.play(1, 1) // O\n",
    "randomGame.play(0, 1) // X\n",
    "\n",
    "render(randomGame)\n",
    "\n",
    "val random = AIPlayer.getRandomMove(randomGame)\n",
    "\n",
    "println(\"AI (for O) suggests random move: $random\")\n",
    "if (random != null) {\n",
    "    randomGame.play(random.first, random.second)\n",
    "}\n",
    "render(randomGame)\n",
    "println(\"State: ${randomGame.state}, Current: ${randomGame.current}\")\n"
   ],
   "outputs": [
    {
     "name": "stdout",
     "output_type": "stream",
     "text": [
      " X  X  . \r\n",
      " .  O  . \r\n",
      " .  .  . \r\n",
      "AI (for O) suggests random move: (0, 2)\r\n",
      " X  X  O \r\n",
      " .  O  . \r\n",
      " .  .  . \r\n",
      "State: InProgress, Current: X\r\n"
     ]
    }
   ],
   "execution_count": 24
  },
  {
   "metadata": {},
   "cell_type": "markdown",
   "source": [
    "### Minimax Algorithm\n",
    "AI selects the best move for the current player. It prefers faster wins and slower losses."
   ]
  },
  {
   "metadata": {
    "ExecuteTime": {
     "end_time": "2025-10-07T16:21:37.704132600Z",
     "start_time": "2025-10-07T16:21:37.564605200Z"
    }
   },
   "cell_type": "code",
   "source": [
    "val minmaxGame = newGame()\n",
    "minmaxGame.play(0, 0) // X\n",
    "minmaxGame.play(1, 1) // O\n",
    "minmaxGame.play(0, 1) // X\n",
    "\n",
    "render(minmaxGame)\n",
    "\n",
    "val best = AIPlayer.computeBestMove(minmaxGame)\n",
    "\n",
    "println(\"AI (for O) should block or win if possible. Suggested move: $best\")\n",
    "\n",
    "if (best != null) {\n",
    "    minmaxGame.play(best.first, best.second)\n",
    "}\n",
    "render(minmaxGame)\n",
    "println(\"State: ${minmaxGame.state}, Current: ${minmaxGame.current}\")"
   ],
   "outputs": [
    {
     "name": "stdout",
     "output_type": "stream",
     "text": [
      " X  X  . \r\n",
      " .  O  . \r\n",
      " .  .  . \r\n",
      "AI (for O) should block or win if possible. Suggested move: (0, 2)\r\n",
      " X  X  O \r\n",
      " .  O  . \r\n",
      " .  .  . \r\n",
      "State: InProgress, Current: X\r\n"
     ]
    }
   ],
   "execution_count": 25
  },
  {
   "metadata": {},
   "cell_type": "markdown",
   "source": [
    "### Summary of integration steps\n",
    "- Map user input (click/tap/keystroke) to a (row, col) pair and call `game.play(row, col)`.\n",
    "- Refresh your view from `game.board` after every move; don't mutate the board directly.\n",
    "- Show the current player with `game.current`.\n",
    "- Detect game over via `game.state`; disable further input and show a win/draw message.\n",
    "- Coordinates are 0..2 (top-left is 0,0). Consider showing axis labels in your UI.\n",
    "- For AI turns, compute a move (`AIPlayer.computeBestMove` or `getRandomMove`) and then call `game.play`."
   ]
  },
  {
   "metadata": {},
   "cell_type": "markdown",
   "source": [
    "## Notes on design and possible extensions\n",
    "- Read-only board: exposed as `List<List<Mark?>>`; all validation happens inside `play`.\n",
    "- Exceptions: `IllegalArgumentException` for out-of-bounds or occupied cells; `IllegalStateException` if playing after game over.\n",
    "- AI: Minimax is fast enough for 3x3 and prefers faster wins/slower losses; `getRandomMove` is non-deterministic.\n",
    "- Extensions: custom renderers (CLI/desktop/web), input methods, alternative AIs, different scoring.\n",
    "- Threading: the engine is designed for single-threaded turn-taking; synchronize access if you update from multiple threads.\n",
    "- Persistence: to save/restore, store a 3x3 grid of \"X\"/\"O\"/null or a move history; rebuild via `newGame()` + replays.\n"
   ]
  }
 ],
 "metadata": {
  "kernelspec": {
   "display_name": "Kotlin",
   "language": "kotlin",
   "name": "kotlin"
  },
  "language_info": {
   "name": "kotlin",
   "version": "2.2.20-Beta2",
   "mimetype": "text/x-kotlin",
   "file_extension": ".kt",
   "pygments_lexer": "kotlin",
   "codemirror_mode": "text/x-kotlin",
   "nbconvert_exporter": ""
  },
  "ktnbPluginMetadata": {
   "projectLibraries": false,
   "sessionRunMode": "IDE_PROCESS",
   "projectDependencies": [
    "notebook-test-project.lib.main"
   ]
  }
 },
 "nbformat": 4,
 "nbformat_minor": 0
}
